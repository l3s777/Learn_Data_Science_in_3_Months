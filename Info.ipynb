{
 "cells": [
  {
   "cell_type": "markdown",
   "metadata": {},
   "source": [
    "Hello world! \n",
    "working on the curricula for learning Data Science in short time (let's say three months)\n",
    "\n",
    "\n",
    "Following Siraj's curriculum, and forking its repo, and creating this:\n",
    "https://docs.google.com/spreadsheets/d/1HdmBJNJAkdYWqF8k6mNMzqsB8iHgAJwQWuanVFlvfqI/edit?usp=sharing\n",
    "\n",
    "I will keep track of the moving, here!\n"
   ]
  },
  {
   "cell_type": "code",
   "execution_count": null,
   "metadata": {},
   "outputs": [],
   "source": []
  }
 ],
 "metadata": {
  "kernelspec": {
   "display_name": "Python 2",
   "language": "python",
   "name": "python2"
  },
  "language_info": {
   "codemirror_mode": {
    "name": "ipython",
    "version": 2
   },
   "file_extension": ".py",
   "mimetype": "text/x-python",
   "name": "python",
   "nbconvert_exporter": "python",
   "pygments_lexer": "ipython2",
   "version": "2.7.15"
  }
 },
 "nbformat": 4,
 "nbformat_minor": 2
}
